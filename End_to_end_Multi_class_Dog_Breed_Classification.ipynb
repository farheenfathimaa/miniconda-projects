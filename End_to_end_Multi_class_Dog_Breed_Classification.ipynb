{
  "cells": [
    {
      "cell_type": "markdown",
      "metadata": {
        "id": "view-in-github",
        "colab_type": "text"
      },
      "source": [
        "<a href=\"https://colab.research.google.com/github/farheenfathimaa/miniconda-projects/blob/main/End_to_end_Multi_class_Dog_Breed_Classification.ipynb\" target=\"_parent\"><img src=\"https://colab.research.google.com/assets/colab-badge.svg\" alt=\"Open In Colab\"/></a>"
      ]
    },
    {
      "cell_type": "markdown",
      "metadata": {
        "id": "1C4KYSjijJ-O"
      },
      "source": [
        "# 🐶 End-to-end-Multi-class-Dog-Breed-Classification\n",
        "\n",
        "This notebook builds an end-to-end-multi-class image classifier using TensorFlow 2.0 and TensorFlow Hub.\n",
        "\n",
        "## 1. Problem\n",
        "\n",
        "Identifying the breed of a dog given an image of a dog.\n",
        "\n",
        "When I'm sitting at the cafe and I take a photo of a dog, want to know what breed of dog it is.\n",
        "\n",
        "## 2. Data\n",
        "\n",
        "The data we're using is from Kaggle's dog breed identification competition.\n",
        "\n",
        "https://www.kaggle.com/c/dog-breed-identification/overview\n",
        "\n",
        "## 3. Evaluation\n",
        "The evaluation is a file with prediction probabilities for each dog breed of each test image.\n",
        "\n",
        "https://www.kaggle.com/c/dog-breed-identification/overview/evaluation\n",
        "\n",
        "## 4. Features\n",
        "Some information about the data:\n",
        "\n",
        "* We're dealing with images (unstructured data) so it's probably best we use deep learning/transfer learning.\n",
        "* There are 120 breeds of dogs (this means there are 120 different classes).\n",
        "* There are around 10,000+ images in the training set (these images have labels).\n",
        "* There are around 10,000+ images in the test set (these images have no labels, because we'll want to predict them)."
      ]
    },
    {
      "cell_type": "code",
      "execution_count": null,
      "metadata": {
        "id": "I5ak3Dbc1hVb"
      },
      "outputs": [],
      "source": [
        "# Unzip the uploaded data into Google Drive\n",
        "#!unzip \"/content/drive/MyDrive/Dog-Vision/dog-breed-identification (1).zip\" -d \"/content/drive/MyDrive/Dog-Vision\""
      ]
    },
    {
      "cell_type": "markdown",
      "metadata": {
        "id": "zoo0pmtioFsA"
      },
      "source": [
        "### Getting our workspace ready\n",
        "* Import TensorFlow 2.x ✅\n",
        "* Import TensorFlow Hub ✅\n",
        "* Make sure we're using a GPU ✅"
      ]
    },
    {
      "cell_type": "code",
      "execution_count": null,
      "metadata": {
        "id": "Fat_VAK-nZf3"
      },
      "outputs": [],
      "source": [
        "# Import TensorFlow into Colab\n",
        "import tensorflow as tf\n",
        "print(\"TF version: \", tf.__version__)"
      ]
    },
    {
      "cell_type": "code",
      "execution_count": null,
      "metadata": {
        "id": "lZEGZRW9p9VH"
      },
      "outputs": [],
      "source": [
        "# Import necessary tools\n",
        "import tensorflow as tf\n",
        "import tensorflow_hub as hub\n",
        "print(\"TF version: \", tf.__version__)\n",
        "print(\"TF Hub version: \", hub.__version__)\n",
        "\n",
        "# Check for GPU availability\n",
        "print(\"GPU\", \"available (YESSSS!!!)\" if tf.config.list_physical_devices(\"GPU\") else \"not available :(\")"
      ]
    },
    {
      "cell_type": "markdown",
      "metadata": {
        "id": "5n-eKbhOr-I5"
      },
      "source": [
        "## Getting our data ready (turning into Tensors)\n",
        "With all machine learning models, our data has to be in numerical format. So that's what we'll be doing first. Turning our images into Tensors (numerical representations).\n",
        "\n",
        "Let's start by accessing our data and checking out the labels."
      ]
    },
    {
      "cell_type": "code",
      "execution_count": null,
      "metadata": {
        "id": "ldatmtj4pm2c"
      },
      "outputs": [],
      "source": [
        "# Checkout the labels of our data\n",
        "import pandas as pd\n",
        "labels_csv = pd.read_csv(\"/content/drive/MyDrive/Dog-Vision/labels.csv\")\n",
        "print(labels_csv.describe())\n",
        "print(labels_csv.head())"
      ]
    },
    {
      "cell_type": "code",
      "execution_count": null,
      "metadata": {
        "id": "zoxmMshFtBHi"
      },
      "outputs": [],
      "source": [
        "labels_csv.head()"
      ]
    },
    {
      "cell_type": "code",
      "execution_count": null,
      "metadata": {
        "id": "jsTIYvUntJWA"
      },
      "outputs": [],
      "source": [
        "labels_csv[\"breed\"].value_counts().plot.bar(figsize=(20,10));"
      ]
    },
    {
      "cell_type": "code",
      "execution_count": null,
      "metadata": {
        "id": "MX3uABwOtauw"
      },
      "outputs": [],
      "source": [
        "labels_csv[\"breed\"].value_counts().median()"
      ]
    },
    {
      "cell_type": "code",
      "execution_count": null,
      "metadata": {
        "id": "VYH_A17zuW29"
      },
      "outputs": [],
      "source": [
        "# Let's view an image\n",
        "from IPython.display import Image\n",
        "Image(\"/content/drive/MyDrive/Dog-Vision/train/001513dfcb2ffafc82cccf4d8bbaba97.jpg\")"
      ]
    },
    {
      "cell_type": "markdown",
      "metadata": {
        "id": "MS5esuq3u10m"
      },
      "source": [
        "\n",
        "### Getting images and their labels\n",
        "Let's get a list of all of our image file pathnames."
      ]
    },
    {
      "cell_type": "code",
      "execution_count": null,
      "metadata": {
        "id": "_Y7MTmEYv0dJ"
      },
      "outputs": [],
      "source": [
        "# Create pathnames from image ID's\n",
        "filenames = [\"/content/drive/MyDrive/Dog-Vision/train/\" + fname + \".jpg\" for fname in labels_csv[\"id\"]]\n",
        "\n",
        "# Check the first 10\n",
        "filenames[:10]"
      ]
    },
    {
      "cell_type": "code",
      "execution_count": null,
      "metadata": {
        "id": "DNX0gEgCwRPg"
      },
      "outputs": [],
      "source": [
        "# Check whether number of filenames matches number of actual image files\n",
        "import os\n",
        "if len(os.listdir(\"/content/drive/MyDrive/Dog-Vision/train/\")) == len(filenames):\n",
        "  print(\"Filenames match actual amount of files!!! Proceed.\")\n",
        "else:\n",
        "  print(\"Filenames do no match actual amount of files, check the target directory.\")"
      ]
    },
    {
      "cell_type": "code",
      "execution_count": null,
      "metadata": {
        "id": "GpANB8GU1UwD"
      },
      "outputs": [],
      "source": [
        "# One more check\n",
        "Image(filenames[9000])"
      ]
    },
    {
      "cell_type": "code",
      "execution_count": null,
      "metadata": {
        "id": "bT-lHiix18lQ"
      },
      "outputs": [],
      "source": [
        "labels_csv[\"breed\"][9000]"
      ]
    },
    {
      "cell_type": "markdown",
      "metadata": {
        "id": "rFPbd5jr2E4w"
      },
      "source": [
        "\n",
        "Since we've now got our training image filepaths in a list, let's prepare our labels."
      ]
    },
    {
      "cell_type": "code",
      "execution_count": null,
      "metadata": {
        "id": "4VIdKST72aXv"
      },
      "outputs": [],
      "source": [
        "import numpy as np\n",
        "labels = labels_csv[\"breed\"].to_numpy()\n",
        "# labels = np.array(labels) # does the same thing as above\n",
        "labels"
      ]
    },
    {
      "cell_type": "code",
      "execution_count": null,
      "metadata": {
        "id": "oRNANAZS2ra9"
      },
      "outputs": [],
      "source": [
        "len(labels)"
      ]
    },
    {
      "cell_type": "code",
      "execution_count": null,
      "metadata": {
        "id": "hClMyEnY20on"
      },
      "outputs": [],
      "source": [
        "labels = labels_csv[\"breed\"]\n",
        "labels"
      ]
    },
    {
      "cell_type": "code",
      "execution_count": null,
      "metadata": {
        "id": "TJnFsWWo7D3D"
      },
      "outputs": [],
      "source": [
        "len(labels)"
      ]
    },
    {
      "cell_type": "code",
      "execution_count": null,
      "metadata": {
        "id": "HADwzQVYftid"
      },
      "outputs": [],
      "source": [
        "# See if number of labels matches the number of filenames\n",
        "if len(labels) == len(filenames):\n",
        "  print(\"Number of labels matches number of filenames!\")\n",
        "else:\n",
        "  print(\"Numbr of labels does not match number of filenames, check data directories!\")"
      ]
    },
    {
      "cell_type": "code",
      "execution_count": null,
      "metadata": {
        "id": "gjmUSSaDgI2V"
      },
      "outputs": [],
      "source": [
        "# Find the unique label values\n",
        "unique_breeds = np.unique(labels)\n",
        "len(unique_breeds)"
      ]
    },
    {
      "cell_type": "code",
      "execution_count": null,
      "metadata": {
        "id": "7NSGF0gZgfjq"
      },
      "outputs": [],
      "source": [
        "# Turn a single label into an array of booleans\n",
        "print(labels[0])\n",
        "labels[0] == unique_breeds"
      ]
    },
    {
      "cell_type": "code",
      "execution_count": null,
      "metadata": {
        "id": "a-dAMYeQhB-y"
      },
      "outputs": [],
      "source": [
        "# Turn every label into a boolean array\n",
        "boolean_labels = [label == unique_breeds for label in labels]\n",
        "boolean_labels[:2]"
      ]
    },
    {
      "cell_type": "code",
      "execution_count": null,
      "metadata": {
        "id": "J7HJNbkkhd2L"
      },
      "outputs": [],
      "source": [
        "len(boolean_labels)"
      ]
    },
    {
      "cell_type": "code",
      "execution_count": null,
      "metadata": {
        "id": "mm-dPB7whnKz"
      },
      "outputs": [],
      "source": [
        "# Example: Turning boolean array into integers\n",
        "print(labels[0]) # original label\n",
        "print(np.where(unique_breeds == labels[0])) # index where label occurs\n",
        "print(boolean_labels[0].argmax()) # index where label occurs in boolean array\n",
        "print(boolean_labels[0].astype(int)) # there will be a 1 where the sample label occurs"
      ]
    },
    {
      "cell_type": "code",
      "execution_count": null,
      "metadata": {
        "id": "Ota5DR--iqTK"
      },
      "outputs": [],
      "source": [
        "print(labels[2])\n",
        "print(boolean_labels[2].astype(int))"
      ]
    },
    {
      "cell_type": "markdown",
      "metadata": {
        "id": "9QfSgbh-i-w0"
      },
      "source": [
        "### Creating our own validation set\n",
        "Since the dataset from Kaggle doesn't come with a validation set, we're going to create our own."
      ]
    },
    {
      "cell_type": "code",
      "execution_count": null,
      "metadata": {
        "id": "Q_atQlFfjmeX"
      },
      "outputs": [],
      "source": [
        "# Setup X & y variables\n",
        "X = filenames\n",
        "y = boolean_labels"
      ]
    },
    {
      "cell_type": "markdown",
      "metadata": {
        "id": "6YgHFzwDkETd"
      },
      "source": [
        "We're going to start off experimenting with ~1000 images and increase as needed."
      ]
    },
    {
      "cell_type": "code",
      "execution_count": null,
      "metadata": {
        "id": "0s1d-7TAkSnI"
      },
      "outputs": [],
      "source": [
        "# Set number of images to use for experimenting\n",
        "NUM_IMAGES = 1000 #@param {type:\"slider\",min:1000,max:10000}"
      ]
    },
    {
      "cell_type": "code",
      "execution_count": null,
      "metadata": {
        "id": "m4242pvnk-Gr"
      },
      "outputs": [],
      "source": [
        "# Let's split our data into train and validation sets\n",
        "from sklearn.model_selection import train_test_split\n",
        "\n",
        "# Split them into training and validation of total size NUM_IMAGES\n",
        "X_train, X_val, y_train, y_val = train_test_split(X[:NUM_IMAGES],\n",
        "                                                  y[:NUM_IMAGES],\n",
        "                                                  test_size=0.2,\n",
        "                                                  random_state=42)\n",
        "\n",
        "len(X_train), len(y_train), len(X_val), len(y_val)"
      ]
    },
    {
      "cell_type": "code",
      "execution_count": null,
      "metadata": {
        "id": "nG7N8WvzmT0p"
      },
      "outputs": [],
      "source": [
        "# Let's have a geez at the training data\n",
        "X_train[:2], y_train[:2]"
      ]
    },
    {
      "cell_type": "markdown",
      "metadata": {
        "id": "qt4jM_RUmj4L"
      },
      "source": [
        "## Preprocessing Images (turning images into Tensors)\n",
        "To preprocess our images into Tensors we're going to write a function which does a few things:\n",
        "\n",
        "1. Take an image filepath as input\n",
        "2. Use TensorFlow to read the file and save it to a variable, `image`\n",
        "3. Turn our `image` (a jpg) into Tensors\n",
        "4. Normalize our image (convert color channel values from from 0-255 to 0-1).\n",
        "5. Resize the `image` to be a shape of (224, 224)\n",
        "6. Return the modified `image`\n",
        "\n",
        "Before we do, let's see what importing an image looks like."
      ]
    },
    {
      "cell_type": "code",
      "execution_count": null,
      "metadata": {
        "id": "bAtWACOeIeI2"
      },
      "outputs": [],
      "source": [
        "# Convert image to NumPy array\n",
        "from matplotlib.pyplot import imread\n",
        "image = imread(filenames[42])\n",
        "image.shape"
      ]
    },
    {
      "cell_type": "code",
      "execution_count": null,
      "metadata": {
        "id": "WRqUsuf5KCDC"
      },
      "outputs": [],
      "source": [
        "image.max(), image.min()"
      ]
    },
    {
      "cell_type": "code",
      "execution_count": null,
      "metadata": {
        "id": "yn3bvoseKk1Z"
      },
      "outputs": [],
      "source": [
        "image[:2]"
      ]
    },
    {
      "cell_type": "code",
      "execution_count": null,
      "metadata": {
        "id": "ihLkK0T6KUjc"
      },
      "outputs": [],
      "source": [
        "# Turn image into a tensor\n",
        "tf.constant(image)[:2]"
      ]
    },
    {
      "cell_type": "markdown",
      "metadata": {
        "id": "S7lGXyseKXzv"
      },
      "source": [
        "Now we've seen what an image looks like as a Tensor, let's make a function to preprocess them.\n",
        "\n",
        "We'll create a function to:\n",
        "\n",
        "1. Take an image filepath as input\n",
        "2. Use TensorFlow to read the file and save it to a variable, `image`\n",
        "3. Turn our `image` (a jpg) into Tensors\n",
        "4. Normalize our image (convert color channel values from from 0-255 to 0-1).\n",
        "5. Resize the `image` to be a shape of (224, 224)\n",
        "6. Return the modified `image`\n",
        "\n",
        "More information on loading images in TensorFlow can be seen here: [link](https://www.tensorflow.org/tutorials/load_data/images)"
      ]
    },
    {
      "cell_type": "code",
      "execution_count": null,
      "metadata": {
        "id": "_QCOVHrTLbab"
      },
      "outputs": [],
      "source": [
        "# Define image size\n",
        "IMG_SIZE=224\n",
        "\n",
        "# Create a function for preprocessing images\n",
        "def process_image(image_path, IMG_SIZE=224):\n",
        "  \"\"\"\n",
        "  Takes an image file path and turns the image into a Tensor.\n",
        "  \"\"\"\n",
        "  # Read in an image file\n",
        "  image = tf.io.read_file(image_path)\n",
        "  # Turn the jpeg image into numerical Tensor with 3 colour channels (Red, Green, Blue)\n",
        "  image = tf.image.decode_jpeg(image, channels=3)\n",
        "  # Convert the colour channel values from 0-255 to 0-1 values\n",
        "  image = tf.image.convert_image_dtype(image, tf.float32)\n",
        "  # Resize the image to our desired value (224, 224)\n",
        "  image = tf.image.resize(image, size=[IMG_SIZE, IMG_SIZE])\n",
        "\n",
        "  return image"
      ]
    },
    {
      "cell_type": "markdown",
      "metadata": {
        "id": "iPvULMhliuFP"
      },
      "source": [
        "## Turning our data into batches\n",
        "Why turn our data into batches?\n",
        "\n",
        "Let's say you're trying to process 10,000+ images in one go... they all might not fit into memory.\n",
        "\n",
        "So that's why we do about 32 (this is the batch size) images at a time (you can manually adjust the batch size if need be).\n",
        "\n",
        "In order to use TensorFlow effectively, we need our data in the form of Tensor tuples which look like this: `(image, label)`."
      ]
    },
    {
      "cell_type": "code",
      "execution_count": null,
      "metadata": {
        "id": "NlpQKUrbkCkI"
      },
      "outputs": [],
      "source": [
        "# Create a simple function to return a tuple (image, label)\n",
        "def get_image_label(image_path, label):\n",
        "  \"\"\"\n",
        "  Takes an image file path name and the associated label,\n",
        "  processes the image and returns a tuple of (image, label).\n",
        "  \"\"\"\n",
        "  image = process_image(image_path)\n",
        "  return image, label"
      ]
    },
    {
      "cell_type": "code",
      "execution_count": null,
      "metadata": {
        "id": "MfC8-5XdmsF7"
      },
      "outputs": [],
      "source": [
        "# Demo of the above\n",
        "(process_image(X[42]), tf.constant(y[42]))"
      ]
    },
    {
      "cell_type": "markdown",
      "metadata": {
        "id": "x60hgtGInRle"
      },
      "source": [
        "Now we've got a way to turn our data into tuples of Tensors in the form: `(image, label)`, let's make a function to turn all of our data (`X` & `y`) into batches!"
      ]
    },
    {
      "cell_type": "code",
      "execution_count": null,
      "metadata": {
        "id": "xUg5g_QmpswW"
      },
      "outputs": [],
      "source": [
        "# Define the batch size, 32 is a good start\n",
        "BATCH_SIZE = 32\n",
        "\n",
        "# Create a function to turn data into batches\n",
        "def create_data_batches(X, y=None, batch_size=BATCH_SIZE, valid_data=False, test_data=False):\n",
        "  \"\"\"\n",
        "  Creates batches of data out of image (X) and label (y) pairs.\n",
        "  Shuffles the data if it's training data but doesn't shuffle if it's validation data.\n",
        "  Also accepts test data as input (no labels).\n",
        "  \"\"\"\n",
        "  # If the data is a test dataset, we probably don't have labels\n",
        "  if test_data:\n",
        "    print(\"Creating test data batches...\")\n",
        "    data = tf.data.Dataset.from_tensor_slices((tf.constant(X))) # only filepaths (no labels)\n",
        "    data_batch = data.map(process_image).batch(batch_size)\n",
        "    return data_batch\n",
        "\n",
        "  # If the data is a valid dataset, we don't need to shuffle it\n",
        "  elif valid_data:\n",
        "    print(\"Creating validation data batches...\")\n",
        "    data = tf.data.Dataset.from_tensor_slices((tf.constant(X), # filepaths\n",
        "                                               tf.constant(y))) # labels\n",
        "    data_batch = data.map(get_image_label).batch(batch_size)\n",
        "    return data_batch\n",
        "\n",
        "  else:\n",
        "    print(\"Creating training data batches...\")\n",
        "    # Turn filepaths and labels into Tensors\n",
        "    data = tf.data.Dataset.from_tensor_slices((tf.constant(X),\n",
        "                                             tf.constant(y)))\n",
        "    # Shuffling pathnames and labels before mapping image processor function\n",
        "    data = data.shuffle(buffer_size=len(X))\n",
        "\n",
        "    # Create (image, label) tuples (this also turns the image path into a batch)\n",
        "    data = data.map(get_image_label)\n",
        "\n",
        "    # Turn the training data into batches\n",
        "    data_batch = data.batch(batch_size)\n",
        "  return data_batch"
      ]
    },
    {
      "cell_type": "code",
      "execution_count": null,
      "metadata": {
        "id": "KPQX19u8wbMx"
      },
      "outputs": [],
      "source": [
        "# Creating training and validation data batches\n",
        "train_data = create_data_batches(X_train, y_train)\n",
        "val_data = create_data_batches(X_val, y_val, valid_data=True)"
      ]
    },
    {
      "cell_type": "code",
      "execution_count": null,
      "metadata": {
        "id": "3tPsO3z9wxn5"
      },
      "outputs": [],
      "source": [
        "# Check out the different attributes of our data batches\n",
        "train_data.element_spec, val_data.element_spec"
      ]
    },
    {
      "cell_type": "markdown",
      "metadata": {
        "id": "ZKcCsDb9xQRu"
      },
      "source": [
        "## Visualizing Data Batches\n",
        "Our data is now in batches, however, these can be a little hard to understand/comprehend, let's visualize them!"
      ]
    },
    {
      "cell_type": "code",
      "execution_count": null,
      "metadata": {
        "id": "7_PXOl7vy5EV"
      },
      "outputs": [],
      "source": [
        "import matplotlib.pyplot as plt\n",
        "\n",
        "# Create a function for viewing imaes in a data batch\n",
        "def show_25_images(images, labels):\n",
        "  \"\"\"\n",
        "  Displays a plot of 25 images and their labels from a data batch.\n",
        "  \"\"\"\n",
        "  # Setup the figure\n",
        "  plt.figure(figsize=(10,10))\n",
        "  # loop through 25 (for displaying 25 images)\n",
        "  for i in range(25):\n",
        "    # Create subplots (5 rows, 5 columns)\n",
        "    ax = plt.subplot(5, 5, i+1)\n",
        "    # Display an image\n",
        "    plt.imshow(images[i])\n",
        "    # Add the image label as the title\n",
        "    plt.title(unique_breeds[labels[i].argmax()])\n",
        "    # Turn the grid lines off\n",
        "    plt.axis(\"off\")"
      ]
    },
    {
      "cell_type": "code",
      "execution_count": null,
      "metadata": {
        "id": "1SoGw6Qe1opp"
      },
      "outputs": [],
      "source": [
        "train_data"
      ]
    },
    {
      "cell_type": "code",
      "execution_count": null,
      "metadata": {
        "id": "3ekMgGyR1qJO"
      },
      "outputs": [],
      "source": [
        "# Now let's visualize the data in a training batch\n",
        "train_images, train_labels = next(train_data.as_numpy_iterator())\n",
        "show_25_images(train_images, train_labels)"
      ]
    },
    {
      "cell_type": "code",
      "execution_count": null,
      "metadata": {
        "id": "2qGJvxWo2qyN"
      },
      "outputs": [],
      "source": [
        "# Now let's visualize our validation set\n",
        "val_images, val_labels = next(val_data.as_numpy_iterator())\n",
        "show_25_images(val_images, val_labels)"
      ]
    },
    {
      "cell_type": "markdown",
      "metadata": {
        "id": "4QN4AnC_4zrE"
      },
      "source": [
        "## Building a model\n",
        "Before we build a model, there are a few things we need to define:\n",
        "\n",
        "* The input shape (our images shape, in the form of Tensors) to our model.\n",
        "* The output shape (image labels, in the form of Tensors) of our model.\n",
        "* The URL of the model we want to use from TensorFlow Hub - [link](https://tfhub.dev/google/imagenet/mobilenet_v2_130_224/classification/4)"
      ]
    },
    {
      "cell_type": "code",
      "execution_count": null,
      "metadata": {
        "id": "JJ1_brmd6G8Z"
      },
      "outputs": [],
      "source": [
        "# Setup imput shape to the model\n",
        "INPUT_SHAPE = [None, IMG_SIZE, IMG_SIZE, 3] # batch, height, width, color channels\n",
        "\n",
        "# Setup output shape of our model\n",
        "OUTPUT_SHAPE = len(unique_breeds)\n",
        "\n",
        "# Setup model URL from TensorFlow Hub\n",
        "MODEL_URL = \"https://tfhub.dev/google/imagenet/mobilenet_v2_130_224/classification/4\""
      ]
    },
    {
      "cell_type": "markdown",
      "metadata": {
        "id": "EjYbr4-v79wR"
      },
      "source": [
        "Now we've got our inputs, outputs and model ready to go. Let's put them together into a Keras deep learning model!\n",
        "\n",
        "Knowing this, let's create a function which:\n",
        "\n",
        "* Takes the input shape, output shape and the model we've chosen as parameters.\n",
        "* Defines the layers in a Keras model in sequential fashion (do this first, then this, then that).\n",
        "* Compiles the model (says it should be evaluated and improved).\n",
        "* Builds the model (tells the model the input shape it'll be getting).\n",
        "* Returns the model.\n",
        "                    \n",
        "All of these steps can be found here: [link](https://www.tensorflow.org/guide/keras/overview)"
      ]
    },
    {
      "cell_type": "code",
      "execution_count": null,
      "metadata": {
        "id": "fdgtm22cRygh"
      },
      "outputs": [],
      "source": [
        "# Create a function which builds a Keras model\n",
        "def create_model(input_shape=INPUT_SHAPE, output_shape=OUTPUT_SHAPE, model_url=MODEL_URL):\n",
        "  print(\"Building model with: \", MODEL_URL)\n",
        "\n",
        "  # Setup the model layers\n",
        "  model = tf.keras.Sequential([\n",
        "      hub.KerasLayer(MODEL_URL), # Layer 1 (input layer)\n",
        "      tf.keras.layers.Dense(units=OUTPUT_SHAPE,\n",
        "                            activation=\"softmax\") # Layer 2 (output layer)\n",
        "  ])\n",
        "\n",
        "  # Compile the model\n",
        "  model.compile(\n",
        "      loss=tf.keras.losses.CategoricalCrossentropy(),\n",
        "      optimizer=tf.keras.optimizers.Adam(),\n",
        "      metrics=[\"accuracy\"]\n",
        "  )\n",
        "\n",
        "  # Build the model\n",
        "  model.build(INPUT_SHAPE)\n",
        "\n",
        "  return model"
      ]
    },
    {
      "cell_type": "code",
      "execution_count": null,
      "metadata": {
        "id": "RKLvjIjtUmiB"
      },
      "outputs": [],
      "source": [
        "model = create_model()\n",
        "model.summary()"
      ]
    },
    {
      "cell_type": "markdown",
      "metadata": {
        "id": "YFhiXTq7VExe"
      },
      "source": [
        "## Creating callbacks\n",
        "Callbacks are helper functions a model can use during training to do such things as save its progress, check its progress or stop training early if a model stops improving.\n",
        "\n",
        "We'll create two callbacks, one for TensorBoard which helps track our models progress and another for early stopping which prevents our model from training for too long.\n",
        "\n",
        "### TensorBoard Callback\n",
        "To setup a TensorBoard callback, we need to do 3 things:\n",
        "\n",
        "1. Load the TensorBoard notebook extension ✅\n",
        "2. Create a TensorBoard callback which is able to save logs to a directory and pass it to our model's `fit()` function. ✅\n",
        "3. Visualize our models training logs with the `%tensorboard` magic function (we'll do this after model training).\n",
        "\n",
        "https://www.tensorflow.org/api_docs/python/tf/keras/callbacks/TensorBoard"
      ]
    },
    {
      "cell_type": "code",
      "execution_count": null,
      "metadata": {
        "id": "iIbIOolWgvaY"
      },
      "outputs": [],
      "source": [
        "# Load TensorBoard notebook extension\n",
        "%load_ext tensorboard"
      ]
    },
    {
      "cell_type": "code",
      "execution_count": null,
      "metadata": {
        "id": "drxprNVPja8B"
      },
      "outputs": [],
      "source": [
        "import datetime\n",
        "\n",
        "# Create a function to build a TensorBoard callback\n",
        "def create_tensorboard_callback():\n",
        "  # Create a log directory for storing TensorBoard logs\n",
        "  logdir = os.path.join(\"/content/drive/MyDrive/Dog-Vision/logs\",\n",
        "                       # Make it so the logs get tracked whenever we run an experiment\n",
        "                       datetime.datetime.now().strftime(\"%Y%m%d-%H%M%S\"))\n",
        "  return tf.keras.callbacks.TensorBoard(logdir)"
      ]
    },
    {
      "cell_type": "markdown",
      "metadata": {
        "id": "XQ5X2_Ljk9LC"
      },
      "source": [
        "### Early Stopping Callback\n",
        "Early stopping helps stop our model from overfitting by stopping training if a certain evaluation metric stops improving.\n",
        "\n",
        "https://www.tensorflow.org/api_docs/python/tf/keras/callbacks/EarlyStopping"
      ]
    },
    {
      "cell_type": "code",
      "execution_count": null,
      "metadata": {
        "id": "cJh-E6WnlTkQ"
      },
      "outputs": [],
      "source": [
        "# Create early stopping callback\n",
        "early_stopping = tf.keras.callbacks.EarlyStopping(monitor=\"val_accuracy\",\n",
        "                                                  patience=3)"
      ]
    },
    {
      "cell_type": "markdown",
      "metadata": {
        "id": "9IIZCaEspFpd"
      },
      "source": [
        "## Training a model (on subset of data)\n",
        "Our first model is only going to train on 1000 images, to make sure everything is working."
      ]
    },
    {
      "cell_type": "code",
      "execution_count": null,
      "metadata": {
        "id": "dz6oXNLgpTGL"
      },
      "outputs": [],
      "source": [
        "NUM_EPOCHS = 100 #@param {type:\"slider\", min:10, max:100, step:10}\n",
        "# 1 = 1 chance to look into the data\n",
        "# 100 = 100 chances to look into the data"
      ]
    },
    {
      "cell_type": "code",
      "execution_count": null,
      "metadata": {
        "id": "zyUqYonQqlvb"
      },
      "outputs": [],
      "source": [
        "# Check to make sure we're still running on a GPU\n",
        "print(\"GPU\", \"available\" if tf.config.list_physical_devices(\"GPU\") else \"not available\")"
      ]
    },
    {
      "cell_type": "markdown",
      "metadata": {
        "id": "YhkDkb0Wq4nk"
      },
      "source": [
        "Let's create a function which trains a model.\n",
        "\n",
        "* Create a model using `create_model()`\n",
        "* Setup a TensorBoard callback using `create_tensorboard_callback()`\n",
        "* Call the `fit()` function on our model passing it the training data, validation data, number of epochs to train for (`NUM_EPOCHS`) and the callbacks we'd like to use\n",
        "* Return the model"
      ]
    },
    {
      "cell_type": "code",
      "execution_count": null,
      "metadata": {
        "id": "M2A1mi9rrCoB"
      },
      "outputs": [],
      "source": [
        "# Build a funciton to train and return a trained model\n",
        "def train_model():\n",
        "  \"\"\"\n",
        "  Trains a given model and returns the trained version.\n",
        "  \"\"\"\n",
        "  # Create a model\n",
        "  model = create_model()\n",
        "\n",
        "  # Create new TensorBoard session everytime we train a model\n",
        "  tensorboard = create_tensorboard_callback()\n",
        "\n",
        "  # Fit the model to the data passing it the callbacks we created\n",
        "  model.fit(x=train_data,\n",
        "            epochs=NUM_EPOCHS,\n",
        "            validation_data=val_data,\n",
        "            validation_freq=1,\n",
        "            callbacks=[tensorboard, early_stopping])\n",
        "  # Return the fitted model\n",
        "  return model"
      ]
    },
    {
      "cell_type": "code",
      "execution_count": null,
      "metadata": {
        "id": "-lkrte7WuMQy"
      },
      "outputs": [],
      "source": [
        "# Fit the model to the data\n",
        "model = train_model()"
      ]
    },
    {
      "cell_type": "markdown",
      "metadata": {
        "id": "gEvXO_xluaHr"
      },
      "source": [
        "**Question:** It looks like our model is overfitting because it's performing far better on the training dataset than the validation dataset, what are some ways to prevent model overfitting in deep learning neural networks?\n",
        "\n",
        "**Note:** Overfitting to begin with is a good thing! It means our model is learning!!!"
      ]
    },
    {
      "cell_type": "markdown",
      "metadata": {
        "id": "GgZEUefew7oo"
      },
      "source": [
        "### Checking the TensorBoard logs\n",
        "\n",
        "The TensorBoard magic function (`%tensorboard`) will access the logs directory we created earlier and visualize it's contents."
      ]
    },
    {
      "cell_type": "code",
      "execution_count": null,
      "metadata": {
        "id": "EFJznZMmAlyL"
      },
      "outputs": [],
      "source": [
        "%tensorboard --logdir /content/drive/MyDrive/Dog-Vision/logs"
      ]
    },
    {
      "cell_type": "markdown",
      "metadata": {
        "id": "g86wqgkWBesY"
      },
      "source": [
        "## Making and Evaluating predictions using a trained model"
      ]
    },
    {
      "cell_type": "code",
      "execution_count": null,
      "metadata": {
        "id": "fTP7ozQZCvEg"
      },
      "outputs": [],
      "source": [
        "# Make predictions on the validation data (not used to train on)\n",
        "predictions = model.predict(val_data, verbose=1)\n",
        "predictions"
      ]
    },
    {
      "cell_type": "code",
      "execution_count": null,
      "metadata": {
        "id": "vM5K1x6ADRsA"
      },
      "outputs": [],
      "source": [
        "predictions.shape"
      ]
    },
    {
      "cell_type": "code",
      "execution_count": null,
      "metadata": {
        "id": "dQhlqxPwDcUy"
      },
      "outputs": [],
      "source": [
        "len(y_val)"
      ]
    },
    {
      "cell_type": "code",
      "execution_count": null,
      "metadata": {
        "id": "RrRN1AP8DeI2"
      },
      "outputs": [],
      "source": [
        "len(unique_breeds)"
      ]
    },
    {
      "cell_type": "code",
      "execution_count": null,
      "metadata": {
        "id": "ru2VviJ-Dgtx"
      },
      "outputs": [],
      "source": [
        "np.sum(predictions[0])"
      ]
    },
    {
      "cell_type": "code",
      "execution_count": null,
      "metadata": {
        "id": "RUhwhk2TDxVD"
      },
      "outputs": [],
      "source": [
        "# First prediction\n",
        "index =42\n",
        "print(predictions[index])\n",
        "print(f\"Max value (probability of prediction): {np.max(predictions[index])}\")\n",
        "print(f\"Sum: {np.sum(predictions[index])}\")\n",
        "print(f\"Max index: {np.argmax(predictions[index])}\")\n",
        "print(f\"Predicted label: {unique_breeds[np.argmax(predictions[index])]}\")"
      ]
    },
    {
      "cell_type": "code",
      "execution_count": null,
      "metadata": {
        "id": "Tz-T0LT7FQZ9"
      },
      "outputs": [],
      "source": [
        "unique_breeds[113]"
      ]
    },
    {
      "cell_type": "markdown",
      "metadata": {
        "id": "2l_dx2OaF7I0"
      },
      "source": [
        "Having the the above functionality is great but we want to be able to do it at scale.\n",
        "\n",
        "And it would be even better if we could see the image the prediction is being made on!\n",
        "\n",
        "**Note:** Prediction probabilities are also known as confidence levels."
      ]
    },
    {
      "cell_type": "code",
      "execution_count": null,
      "metadata": {
        "id": "Pta1bQzmGMl7"
      },
      "outputs": [],
      "source": [
        "# Turn prediction probabilities into their respective label (easier to understand)\n",
        "def get_pred_label(prediction_probabilities):\n",
        "  \"\"\"\n",
        "  Turns an array of prediciton probabilities into a label.\n",
        "  \"\"\"\n",
        "  return unique_breeds[np.argmax(prediction_probabilities)]\n",
        "\n",
        "# Get a predicted label based on an array o fprediction probabilities\n",
        "pred_label = get_pred_label(predictions[0])\n",
        "pred_label"
      ]
    },
    {
      "cell_type": "markdown",
      "metadata": {
        "id": "k4R-QCbfHyK4"
      },
      "source": [
        "Now since our validation data is still in a batch dataset, we'll have to unbatchify it to make predictions on the validation images and then compare those predictions to the validation labels (truth labels)."
      ]
    },
    {
      "cell_type": "code",
      "execution_count": null,
      "metadata": {
        "id": "VyVNb8e4HdYM"
      },
      "outputs": [],
      "source": [
        "val_data"
      ]
    },
    {
      "cell_type": "code",
      "execution_count": null,
      "metadata": {
        "id": "bh8ynAA3Ho2T"
      },
      "outputs": [],
      "source": [
        "# Create a function to unbatch dataset\n",
        "def unbatchify(data):\n",
        "  \"\"\"\n",
        "  Takes a Batched dataset of (image, label) Tensors and returns separate arrays\n",
        "  of image and labels.\n",
        "  \"\"\"\n",
        "  images = []\n",
        "  labels = []\n",
        "\n",
        "  # Loop through unbatched data\n",
        "  for image, label in data.unbatch().as_numpy_iterator():\n",
        "    images.append(image)\n",
        "    labels.append(unique_breeds[np.argmax(label)])\n",
        "  return images, labels\n",
        "\n",
        "# Unbatchify the validation data\n",
        "val_images, val_labels = unbatchify(val_data)\n",
        "val_images[0], val_labels[0]"
      ]
    },
    {
      "cell_type": "markdown",
      "metadata": {
        "id": "MZCsnqyWIjrd"
      },
      "source": [
        "Now we've got ways to get get:\n",
        "\n",
        "* Prediction labels\n",
        "* Validation labels (truth labels)\n",
        "* Validation images\n",
        "\n",
        "Let's make some function to make these all a bit more visualize.\n",
        "\n",
        "We'll create a function which:\n",
        "\n",
        "* Takes an array of prediction probabilities, an array of truth labels and an array of images and an integer. ✅\n",
        "* Convert the prediction probabilities to a predicted label. ✅\n",
        "* Plot the predicted label, its predicted probability, the truth label and the target image on a single plot. ✅"
      ]
    },
    {
      "cell_type": "code",
      "execution_count": null,
      "metadata": {
        "id": "7iERQ0P0LtZF"
      },
      "outputs": [],
      "source": [
        "def plot_pred(prediction_probabilities, labels, images, n=1):\n",
        "  \"\"\"\n",
        "  View the prediction, ground truth and image for sample n\n",
        "  \"\"\"\n",
        "  pred_prob, true_label, image = prediction_probabilities[n], labels[n], images[n]\n",
        "\n",
        "  # Get the pred label\n",
        "  pred_label = get_pred_label(pred_prob)\n",
        "\n",
        "  # Plot image & remove ticks\n",
        "  plt.imshow(image)\n",
        "  plt.xticks([])\n",
        "  plt.yticks([])\n",
        "\n",
        "  # Change the colour of the title depending on if the prediction is right or wrong\n",
        "  if pred_label == true_label:\n",
        "    color = \"green\"\n",
        "  else:\n",
        "    color = \"red\"\n",
        "\n",
        "  # Change plot title to be predicted, probability of prediction and truth label\n",
        "  plt.title(\"{} {:2.0f}% {}\".format(pred_label,\n",
        "                                    np.max(pred_prob)*100,\n",
        "                                    true_label),\n",
        "                                    color=color)"
      ]
    },
    {
      "cell_type": "code",
      "execution_count": null,
      "metadata": {
        "id": "KYkHbsf3El_6"
      },
      "outputs": [],
      "source": [
        "plot_pred(prediction_probabilities=predictions,\n",
        "          labels=val_labels,\n",
        "          images=val_images,\n",
        "          n=77)"
      ]
    },
    {
      "cell_type": "markdown",
      "metadata": {
        "id": "FeO-YLPqEwLY"
      },
      "source": [
        "Now we've got one function to visualize our models top prediction, let's make another to view our models top 10 predictions.\n",
        "\n",
        "This function will:\n",
        "\n",
        "* Take an input of prediction probabilities array and a ground truth array and an integer ✅\n",
        "* Find the prediction using `get_pred_label()` ✅\n",
        "* Find the top 10:\n",
        "  * Prediction probabilities indexes ✅\n",
        "  * Prediction probabilities values ✅\n",
        "  * Prediction labels ✅\n",
        "* Plot the top 10 prediction probability values and labels, coloring the true label green ✅"
      ]
    },
    {
      "cell_type": "code",
      "execution_count": null,
      "metadata": {
        "id": "5G9Kd_mbGV7f"
      },
      "outputs": [],
      "source": [
        "def plot_pred_conf(prediction_probabilities, labels, n=1):\n",
        "  \"\"\"\n",
        "  Plots the top 10 highest prediction confidences along with the truth label for sample n.\n",
        "  \"\"\"\n",
        "  pred_prob, true_label = prediction_probabilities[n], labels[n]\n",
        "\n",
        "  # Get the predicted label\n",
        "  pred_label = get_pred_label(pred_prob)\n",
        "\n",
        "  # Find the top 10 prediction confidence indexes\n",
        "  top_10_pred_indexes = pred_prob.argsort()[-10:][::-1]\n",
        "  # Find the top 10 prediction confidence values\n",
        "  top_10_pred_values = pred_prob[top_10_pred_indexes]\n",
        "  # Find the top 10 prediction labels\n",
        "  top_10_pred_labels = unique_breeds[top_10_pred_indexes]\n",
        "\n",
        "  # Setup plot\n",
        "  top_plot = plt.bar(np.arange(len(top_10_pred_labels)),\n",
        "                     top_10_pred_values,\n",
        "                     color=\"grey\")\n",
        "  plt.xticks(np.arange(len(top_10_pred_labels)),\n",
        "             labels=top_10_pred_labels,\n",
        "             rotation=\"vertical\")\n",
        "\n",
        "  # Change color of true label\n",
        "  if np.isin(true_label, top_10_pred_labels):\n",
        "    top_plot[np.argmax(top_10_pred_labels == true_label)].set_color(\"green\")\n",
        "  else:\n",
        "    pass"
      ]
    },
    {
      "cell_type": "code",
      "execution_count": null,
      "metadata": {
        "id": "OKRzbHvsK1kE"
      },
      "outputs": [],
      "source": [
        "plot_pred_conf(prediction_probabilities=predictions,\n",
        "               labels=val_labels,\n",
        "               n=9)"
      ]
    },
    {
      "cell_type": "markdown",
      "metadata": {
        "id": "THBxGAmZLBEt"
      },
      "source": [
        "Now we've got some function to help us visualize our predictions and evaluate our modle, let's check out a few."
      ]
    },
    {
      "cell_type": "code",
      "execution_count": null,
      "metadata": {
        "id": "fIoMOv-tLTwW"
      },
      "outputs": [],
      "source": [
        "# Let's check out a few predictions and their different values\n",
        "i_multiplier = 20\n",
        "num_rows = 3\n",
        "num_cols = 2\n",
        "num_images = num_rows*num_cols\n",
        "plt.figure(figsize=(10*num_cols, 5*num_rows))\n",
        "for i in range(num_images):\n",
        "  plt.subplot(num_rows, 2*num_cols, 2*i+1)\n",
        "  plot_pred(prediction_probabilities=predictions,\n",
        "            labels=val_labels,\n",
        "            images=val_images,\n",
        "            n=i+i_multiplier)\n",
        "  plt.subplot(num_rows, 2*num_cols, 2*i+2)\n",
        "  plot_pred_conf(prediction_probabilities=predictions,\n",
        "                 labels=val_labels,\n",
        "                 n=i+i_multiplier)\n",
        "plt.tight_layout(h_pad=1.0)\n",
        "plt.show()"
      ]
    },
    {
      "cell_type": "markdown",
      "metadata": {
        "id": "8u4lgXW-Mbjr"
      },
      "source": [
        "**Challenge:** How would you create a confusion matrix with our models predictions and true labels?\n",
        "\n",
        "## Saving and reloading a trained model"
      ]
    },
    {
      "cell_type": "code",
      "execution_count": null,
      "metadata": {
        "id": "Q_vcTSIkNe52"
      },
      "outputs": [],
      "source": [
        "# Create a function to save a model\n",
        "def save_model(model, suffix=None):\n",
        "  \"\"\"\n",
        "  Saves a given model in a models directory and appends a suffix (string).\n",
        "  \"\"\"\n",
        "  # Create a model directory pathname with current time\n",
        "  modeldir = os.path.join(\"/content/drive/MyDrive/Dog-Vision/models\",\n",
        "                          datetime.datetime.now().strftime(\"%Y%m%d-%H%M%s\"))\n",
        "  model_path = modeldir + \"-\" + suffix + \".h5\" # save format of model\n",
        "  print(f\"Saving model to: {model_path}...\")\n",
        "  model.save(model_path)\n",
        "  return model_path"
      ]
    },
    {
      "cell_type": "code",
      "execution_count": null,
      "metadata": {
        "id": "CKygmS38SRZf"
      },
      "outputs": [],
      "source": [
        "# Create a funtion to load a trained model\n",
        "def load_model(model_path):\n",
        "  \"\"\"\n",
        "  Loads a saved model from a specified path.\n",
        "  \"\"\"\n",
        "  print(f\"Loading saved model from: {model_path}\")\n",
        "  model = tf.keras.models.load_model(model_path,\n",
        "                                     custom_objects={\"KerasLayer\":hub.KerasLayer})\n",
        "  return model"
      ]
    },
    {
      "cell_type": "markdown",
      "metadata": {
        "id": "QVvAVxMXTUV1"
      },
      "source": [
        "Now we've got functions to save and load a trained model, let's make sure they work!"
      ]
    },
    {
      "cell_type": "code",
      "execution_count": null,
      "metadata": {
        "id": "5-ZMYhVBTXjb"
      },
      "outputs": [],
      "source": [
        "# Save our model trained on 1000 images\n",
        "save_model(model, suffix=\"1000-images-mobilenetv2-Adam\")"
      ]
    },
    {
      "cell_type": "code",
      "execution_count": null,
      "metadata": {
        "id": "SxovwONjTs8-"
      },
      "outputs": [],
      "source": [
        "# Load the trained model\n",
        "loaded_1000_image_model = load_model(\"/content/drive/MyDrive/Dog-Vision/models/20240614-15131718378004-1000-images-mobilenetv2-Adam.h5\")"
      ]
    },
    {
      "cell_type": "code",
      "execution_count": null,
      "metadata": {
        "id": "vIjspy11UVLB"
      },
      "outputs": [],
      "source": [
        "# Evaluate the pre-saved model\n",
        "model.evaluate(val_data)"
      ]
    },
    {
      "cell_type": "code",
      "execution_count": null,
      "metadata": {
        "id": "7ncEcNa-UmpQ"
      },
      "outputs": [],
      "source": [
        "# Evaluate the loaded model\n",
        "loaded_1000_image_model.evaluate(val_data)"
      ]
    },
    {
      "cell_type": "markdown",
      "metadata": {
        "id": "3fsBkVaeU7_T"
      },
      "source": [
        "## Training a big dog model 🐶 (on the full data)"
      ]
    },
    {
      "cell_type": "code",
      "execution_count": null,
      "metadata": {
        "id": "m7kePoGTUy5j"
      },
      "outputs": [],
      "source": [
        "len(X), len(y)"
      ]
    },
    {
      "cell_type": "code",
      "execution_count": null,
      "metadata": {
        "id": "7-RUx-vsVO5x"
      },
      "outputs": [],
      "source": [
        "X[:10]"
      ]
    },
    {
      "cell_type": "code",
      "execution_count": null,
      "metadata": {
        "id": "TlfFY0DWVRs_"
      },
      "outputs": [],
      "source": [
        "len(X_train)"
      ]
    },
    {
      "cell_type": "code",
      "execution_count": null,
      "metadata": {
        "id": "4q9XDhJHVT6c"
      },
      "outputs": [],
      "source": [
        "# Create a data batch with the full data set\n",
        "full_data = create_data_batches(X,y)"
      ]
    },
    {
      "cell_type": "code",
      "execution_count": null,
      "metadata": {
        "id": "shv8c6N8V0-8"
      },
      "outputs": [],
      "source": [
        "full_data"
      ]
    },
    {
      "cell_type": "code",
      "execution_count": null,
      "metadata": {
        "id": "sL5MjpHBV4M5"
      },
      "outputs": [],
      "source": [
        "# Create a model for full model\n",
        "full_model = create_model()"
      ]
    },
    {
      "cell_type": "code",
      "execution_count": null,
      "metadata": {
        "id": "3jrawleOWJEF"
      },
      "outputs": [],
      "source": [
        "# Create full model callbacks\n",
        "full_model_tensorboard = create_tensorboard_callback()\n",
        "# No validation set when training on all the data, so we can't monitor validation accuracy\n",
        "full_model_early_stopping = tf.keras.callbacks.EarlyStopping(monitor=\"accuracy\",\n",
        "                                                             patience=3)"
      ]
    },
    {
      "cell_type": "markdown",
      "metadata": {
        "id": "_3wfj0xlYBEz"
      },
      "source": [
        "**Note:** Running the cell below will take a little while (maybe up to 30 minutes for the first epoch) because the GPU we're using in the runtime has to load all of the images into memory."
      ]
    },
    {
      "cell_type": "code",
      "execution_count": null,
      "metadata": {
        "colab": {
          "base_uri": "https://localhost:8080/"
        },
        "id": "bYRu9WCcYD_-",
        "outputId": "f6da1bb3-8a86-4a5c-c55d-d0f85ba8d836"
      },
      "outputs": [
        {
          "output_type": "stream",
          "name": "stdout",
          "text": [
            "Epoch 1/100\n",
            "320/320 [==============================] - 620s 2s/step - loss: 1.3474 - accuracy: 0.6707\n",
            "Epoch 2/100\n",
            "320/320 [==============================] - 613s 2s/step - loss: 0.3989 - accuracy: 0.8819\n",
            "Epoch 3/100\n",
            "320/320 [==============================] - 611s 2s/step - loss: 0.2388 - accuracy: 0.9346\n",
            "Epoch 4/100\n",
            "320/320 [==============================] - 614s 2s/step - loss: 0.1541 - accuracy: 0.9629\n",
            "Epoch 5/100\n",
            "320/320 [==============================] - 610s 2s/step - loss: 0.1071 - accuracy: 0.9778\n",
            "Epoch 6/100\n",
            "320/320 [==============================] - 591s 2s/step - loss: 0.0780 - accuracy: 0.9867\n",
            "Epoch 7/100\n",
            "320/320 [==============================] - 614s 2s/step - loss: 0.0583 - accuracy: 0.9915\n",
            "Epoch 8/100\n",
            "320/320 [==============================] - 609s 2s/step - loss: 0.0465 - accuracy: 0.9942\n",
            "Epoch 9/100\n",
            "320/320 [==============================] - 600s 2s/step - loss: 0.0367 - accuracy: 0.9962\n",
            "Epoch 10/100\n",
            "320/320 [==============================] - 596s 2s/step - loss: 0.0315 - accuracy: 0.9967\n",
            "Epoch 11/100\n",
            "320/320 [==============================] - 598s 2s/step - loss: 0.0259 - accuracy: 0.9974\n",
            "Epoch 12/100\n",
            "320/320 [==============================] - 614s 2s/step - loss: 0.0228 - accuracy: 0.9980\n",
            "Epoch 13/100\n",
            "184/320 [================>.............] - ETA: 4:15 - loss: 0.0218 - accuracy: 0.9983"
          ]
        }
      ],
      "source": [
        "# Fit the full model to the full data\n",
        "full_model.fit(x=full_data,\n",
        "               epochs=NUM_EPOCHS,\n",
        "               callbacks=[full_model_tensorboard, full_model_early_stopping])"
      ]
    },
    {
      "cell_type": "code",
      "execution_count": null,
      "metadata": {
        "id": "aEgMeiiJYk8I"
      },
      "outputs": [],
      "source": [
        "save_model(full_model, suffix=\"full-image-set-mobilenetv2-Adam\")"
      ]
    },
    {
      "cell_type": "code",
      "execution_count": null,
      "metadata": {
        "id": "Miu3prIKZIyM"
      },
      "outputs": [],
      "source": [
        "# Load in the full model\n",
        "loaded_full_model = load_model(\"/content/drive/MyDrive/Dog-Vision/models/20240614-15511718380262-full-image-set-mobilenetv2-Adam.h5\")"
      ]
    },
    {
      "cell_type": "markdown",
      "metadata": {
        "id": "QlRR1YiudVms"
      },
      "source": [
        "## Making predictions on the test dataset\n",
        "Since our model has been trained on images in the form of Tensor batches, to make predictions on the test data, we'll have to get it into the same format.\n",
        "\n",
        "Luckily we created `create_data_batches()` earlier which can take a list of filenames as input and conver them into Tensor batches.\n",
        "\n",
        "To make predictions on the test data, we'll:\n",
        "\n",
        "* Get the test image filenames. ✅\n",
        "* Convert the filenames into test data batches using `create_data_batches()` and setting the `test_data` parameter to `True` (since the test data doesn't have labels). ✅\n",
        "* Make a predictions array by passing the test batches to the `predict()` method called on our model.✅"
      ]
    },
    {
      "cell_type": "code",
      "execution_count": null,
      "metadata": {
        "id": "k9WpT_f5eOQm"
      },
      "outputs": [],
      "source": [
        "# Load test image filenames\n",
        "test_path = \"/content/drive/MyDrive/Dog-Vision/test\"\n",
        "test_filenames = [test_path + \"/\" + fname for fname in os.listdir(test_path)]\n",
        "test_filenames[:10]"
      ]
    },
    {
      "cell_type": "code",
      "execution_count": null,
      "metadata": {
        "id": "IPdQItLZg3Mb"
      },
      "outputs": [],
      "source": [
        "len(test_filenames)"
      ]
    },
    {
      "cell_type": "code",
      "execution_count": null,
      "metadata": {
        "id": "Bpnxetcer7pO"
      },
      "outputs": [],
      "source": [
        "# Create test data batch\n",
        "test_data = create_data_batches(test_filenames, test_data=True)"
      ]
    },
    {
      "cell_type": "code",
      "execution_count": null,
      "metadata": {
        "id": "Ehs5_KGysLkx"
      },
      "outputs": [],
      "source": [
        "test_data"
      ]
    },
    {
      "cell_type": "markdown",
      "metadata": {
        "id": "00m2ZAcssWhi"
      },
      "source": [
        "**Note:** Calling `predict()` on our full model and passing it the test data batch will take a long time to run (about a ~1hr). This is because we have to process ~10,000+ images and get our model to find patterns in those images and generate predictions based on what its learned in the training dataset."
      ]
    },
    {
      "cell_type": "code",
      "execution_count": null,
      "metadata": {
        "id": "CttdDKOrPT3Z"
      },
      "outputs": [],
      "source": [
        "# Make predictions on test data batch using the loaded full model\n",
        "test_predictions = loaded_full_model.predict(test_data,\n",
        "                                             verbose=1)"
      ]
    },
    {
      "cell_type": "code",
      "execution_count": null,
      "metadata": {
        "id": "fU9JFgA2CLPW"
      },
      "outputs": [],
      "source": [
        "# Save predictions (NumPy array) to csv file (for access later)\n",
        "np.savetxt(\"/content/drive/MyDrive/Dog-Vision/preds_array.csv\", test_predictions, delimiter=\",\")"
      ]
    },
    {
      "cell_type": "code",
      "execution_count": null,
      "metadata": {
        "id": "pXaObWmOiFdC"
      },
      "outputs": [],
      "source": [
        "# Load predictions (NumPy array) from csv file\n",
        "test_predictions = np.loadtxt(\"/content/drive/MyDrive/Dog-Vision/preds_array.csv\", delimiter=\",\")"
      ]
    },
    {
      "cell_type": "code",
      "execution_count": null,
      "metadata": {
        "id": "BvS9kaD3T-sH"
      },
      "outputs": [],
      "source": [
        "test_predictions[:10]"
      ]
    },
    {
      "cell_type": "code",
      "execution_count": null,
      "metadata": {
        "id": "yq5ES7xfVAkN"
      },
      "outputs": [],
      "source": []
    }
  ],
  "metadata": {
    "accelerator": "GPU",
    "colab": {
      "gpuType": "T4",
      "provenance": [],
      "mount_file_id": "1JmK0i8mqVBxTzF4wVrEawxpYP8EZYpb5",
      "authorship_tag": "ABX9TyMFY5f+SwPVG3o6oONHGW9R",
      "include_colab_link": true
    },
    "kernelspec": {
      "display_name": "Python 3",
      "name": "python3"
    },
    "language_info": {
      "name": "python"
    }
  },
  "nbformat": 4,
  "nbformat_minor": 0
}